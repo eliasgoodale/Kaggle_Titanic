{
 "cells": [
  {
   "cell_type": "code",
   "execution_count": 69,
   "metadata": {},
   "outputs": [],
   "source": [
    "import numpy as np \n",
    "import pandas as pd \n",
    "import tensorflow as tf\n",
    "import math\n"
   ]
  },
  {
   "cell_type": "code",
   "execution_count": 70,
   "metadata": {},
   "outputs": [
    {
     "name": "stdout",
     "output_type": "stream",
     "text": [
      "<class 'pandas.core.frame.DataFrame'>\n",
      "RangeIndex: 891 entries, 0 to 890\n",
      "Data columns (total 12 columns):\n",
      "PassengerId    891 non-null int64\n",
      "Survived       891 non-null int64\n",
      "Pclass         891 non-null int64\n",
      "Name           891 non-null object\n",
      "Sex            891 non-null object\n",
      "Age            714 non-null float64\n",
      "SibSp          891 non-null int64\n",
      "Parch          891 non-null int64\n",
      "Ticket         891 non-null object\n",
      "Fare           891 non-null float64\n",
      "Cabin          204 non-null object\n",
      "Embarked       889 non-null object\n",
      "dtypes: float64(2), int64(5), object(5)\n",
      "memory usage: 83.6+ KB\n",
      "<class 'pandas.core.frame.DataFrame'>\n",
      "RangeIndex: 418 entries, 0 to 417\n",
      "Data columns (total 11 columns):\n",
      "PassengerId    418 non-null int64\n",
      "Pclass         418 non-null int64\n",
      "Name           418 non-null object\n",
      "Sex            418 non-null object\n",
      "Age            332 non-null float64\n",
      "SibSp          418 non-null int64\n",
      "Parch          418 non-null int64\n",
      "Ticket         418 non-null object\n",
      "Fare           417 non-null float64\n",
      "Cabin          91 non-null object\n",
      "Embarked       418 non-null object\n",
      "dtypes: float64(2), int64(4), object(5)\n",
      "memory usage: 36.0+ KB\n"
     ]
    }
   ],
   "source": [
    "train_df = pd.read_csv('./data/train.csv')\n",
    "test_df = pd.read_csv('./data/test.csv')\n",
    "train_df.info()\n",
    "test_df.info()"
   ]
  },
  {
   "cell_type": "code",
   "execution_count": 71,
   "metadata": {},
   "outputs": [],
   "source": [
    "selected_feature = ['Pclass','Sex', 'Age', 'SibSp', 'Parch', 'Fare', 'Embarked']\n",
    "parameters = {}\n",
    "parameters['selected_feature'] = selected_feature"
   ]
  },
  {
   "cell_type": "code",
   "execution_count": 72,
   "metadata": {},
   "outputs": [],
   "source": [
    "def cleanup_data(train_df, test_df):\n",
    "    age_mean = pd.concat([train_df['Age'], test_df['Age']], ignore_index=True).mean()\n",
    "    fare_mean = pd.concat([train_df['Fare'], test_df['Fare']], ignore_index=True).mean()\n",
    "    \n",
    "    train = train_df[['Survived'] + selected_feature].copy()\n",
    "    \n",
    "    train['Sex'] = train['Sex'].map({'male': 1, 'female': 0}).astype(int)\n",
    "    train['Age'] = train['Age'].fillna(age_mean)\n",
    "    train = train.dropna()\n",
    "    train['Embarked'] = train['Embarked'].map({'S': 0, 'C': 1, 'Q': 2}).astype(int)\n",
    "    \n",
    "    test = test_df[selected_feature].copy()\n",
    "    test['Sex'] = test['Sex'].map({'male': 1, 'female': 0}).astype(int)\n",
    "    test['Age'] = test['Age'].fillna(age_mean)\n",
    "    test['Fare'] = test['Fare'].fillna(fare_mean)\n",
    "    test['Embarked'] = test['Embarked'].map({'S': 0, 'C': 1, 'Q': 2}).astype(int)\n",
    "    \n",
    "    return train, test\n",
    "\n",
    "train, test = cleanup_data(train_df, test_df)"
   ]
  },
  {
   "cell_type": "code",
   "execution_count": 73,
   "metadata": {},
   "outputs": [],
   "source": [
    "def feature_scaling(parmeters):\n",
    "    def get_mean(data_list):\n",
    "        return pd.concat(data_list, ignore_index=True).mean()\n",
    "    \n",
    "    def get_std(data_list):\n",
    "        return pd.concat(data_list, ignore_index=True).std()\n",
    "\n",
    "    def get_min(data_list):\n",
    "        return pd.concat(data_list, ignore_index=True).min()\n",
    "\n",
    "    def get_max(data_list):\n",
    "        return pd.concat(data_list, ignore_index=True).max()\n",
    "\n",
    "    for feature in parameters['selected_feature']:\n",
    "        if parameters['feature_scaling'] == 'rescaling':\n",
    "            data_list = [train[feature], test[feature]]\n",
    "            min_ = get_min(data_list)\n",
    "            max_ = get_max(data_list)\n",
    "            train[feature] = (train[feature] - min_) / (max_ - min_)\n",
    "            test[feature] = (test[feature] - min_) / (max_ - min_)\n",
    "        elif parameters['feature_scaling'] == 'mean_normalization':\n",
    "            data_list = [train[feature], test[feature]]\n",
    "            mean = get_mean(data_list)\n",
    "            min_ = get_min(data_list)\n",
    "            max_ = get_max(data_list)\n",
    "            train[feature] = (train[feature] - mean) / (max_ - min_)\n",
    "            test[feature] = (test[feature] - mean) / (max_ - min_)\n",
    "        else:\n",
    "            data_list = [train[feature], test[feature]]\n",
    "            mean = get_mean(data_list)\n",
    "            std = get_std(data_list)\n",
    "            train[feature] = (train[feature] - mean) / std\n",
    "            test[feature] = (test[feature] - mean) / std\n",
    "\n",
    "parameters['feature_scaling'] = 'standardization'\n",
    "feature_scaling(parameters)"
   ]
  },
  {
   "cell_type": "code",
   "execution_count": 74,
   "metadata": {},
   "outputs": [
    {
     "name": "stdout",
     "output_type": "stream",
     "text": [
      "(622, 7) (622, 1)\n",
      "(267, 7) (267, 1)\n",
      "(418, 7)\n"
     ]
    }
   ],
   "source": [
    "m = int(train.values.shape[0] * 0.7)\n",
    "train_X = train[selected_feature].values[:m, :]\n",
    "train_Y = train['Survived'].values.reshape(-1, 1)[:m, :]\n",
    "valid_X = train[selected_feature].values[m:, :]\n",
    "valid_Y = train['Survived'].values.reshape(-1, 1)[m:, :]\n",
    "test_X = test[selected_feature].values\n",
    "print(train_X.shape, train_Y.shape)\n",
    "print(valid_X.shape, valid_Y.shape)\n",
    "print(test_X.shape)"
   ]
  },
  {
   "cell_type": "code",
   "execution_count": 75,
   "metadata": {},
   "outputs": [],
   "source": [
    "\n",
    "def random_mini_batches(X, Y, mini_batch_size = 64, seed = 0):\n",
    "    \"\"\"\n",
    "    Creates a list of random minibatches from (X, Y)\n",
    "    \n",
    "    Arguments:\n",
    "    X -- input data, of shape (input size, number of examples)\n",
    "    Y -- true \"label\" vector (1 for blue dot / 0 for red dot), of shape (1, number of examples)\n",
    "    mini_batch_size -- size of the mini-batches, integer\n",
    "    \n",
    "    Returns:\n",
    "    mini_batches -- list of synchronous (mini_batch_X, mini_batch_Y)\n",
    "    \"\"\"\n",
    "    \n",
    "    np.random.seed(seed)            # To make your \"random\" minibatches the same as ours\n",
    "    m = X.shape[0]                  # number of training examples\n",
    "    mini_batches = []\n",
    "        \n",
    "    # Step 1: Shuffle (X, Y)\n",
    "    permutation = list(np.random.permutation(m))\n",
    "    shuffled_X = X[permutation, :]\n",
    "    shuffled_Y = Y[permutation, :].reshape((m,1))\n",
    "\n",
    "    # Step 2: Partition (shuffled_X, shuffled_Y). Minus the end case.\n",
    "    num_complete_minibatches = math.floor(m/mini_batch_size) # number of mini batches of size mini_batch_size in your partitionning\n",
    "    for k in range(0, num_complete_minibatches):\n",
    "        mini_batch_X = shuffled_X[k * mini_batch_size : (k + 1) * mini_batch_size, :]\n",
    "        mini_batch_Y = shuffled_Y[k * mini_batch_size : (k + 1) * mini_batch_size, :]\n",
    "\n",
    "        mini_batch = (mini_batch_X, mini_batch_Y)\n",
    "        mini_batches.append(mini_batch)\n",
    "    \n",
    "    # Handling the end case (last mini-batch < mini_batch_size)\n",
    "    if m % mini_batch_size != 0:\n",
    "\n",
    "        mini_batch_X = shuffled_X[num_complete_minibatches * mini_batch_size:, :]\n",
    "        mini_batch_Y = shuffled_Y[num_complete_minibatches * mini_batch_size:, :]\n",
    "\n",
    "        mini_batch = (mini_batch_X, mini_batch_Y)\n",
    "        mini_batches.append(mini_batch)\n",
    "    \n",
    "    return mini_batches"
   ]
  },
  {
   "cell_type": "code",
   "execution_count": 76,
   "metadata": {},
   "outputs": [],
   "source": [
    "def make_model(parameters):\n",
    "    num_feature = len(parameters['selected_feature'])\n",
    "    X = tf.placeholder(tf.float32, [None, num_feature])\n",
    "    Y = tf.placeholder(tf.float32, [None, 1])\n",
    "\n",
    "    layers_dim = parameters['layers_dim']\n",
    "    fc = tf.contrib.layers.stack(X, tf.contrib.layers.fully_connected, layers_dim)\n",
    "    hypothesis = tf.contrib.layers.fully_connected(fc, 1, activation_fn=None)\n",
    "    loss = tf.nn.sigmoid_cross_entropy_with_logits(logits=hypothesis, labels=Y)\n",
    "    cost = tf.reduce_mean(loss)\n",
    "    \n",
    "    learning_rate = parameters['learning_rate']\n",
    "    train_op = tf.train.AdamOptimizer(learning_rate=learning_rate).minimize(cost)\n",
    "    \n",
    "    prediction = tf.round(tf.sigmoid(hypothesis))\n",
    "    correct_prediction = tf.equal(prediction, Y)\n",
    "    accuracy = tf.reduce_mean(tf.cast(correct_prediction, tf.float32))\n",
    "    \n",
    "    model = {'X': X, 'Y': Y, 'hypothesis': hypothesis, 'cost': cost,\n",
    "             'train_op': train_op, 'prediction': prediction, 'accuracy': accuracy}\n",
    "    \n",
    "    return model"
   ]
  },
  {
   "cell_type": "code",
   "execution_count": 77,
   "metadata": {},
   "outputs": [],
   "source": [
    "def train(parameters, model):\n",
    "    num_epochs = parameters['num_epochs']\n",
    "    minibatch_size = parameters['minibatch_size']\n",
    "    train_size = train_X.shape[0]\n",
    "    saver = tf.train.Saver()\n",
    "    epoch_list = []\n",
    "    cost_list = []\n",
    "    with tf.Session() as sess:\n",
    "        init_op = tf.group(tf.global_variables_initializer(), tf.local_variables_initializer())\n",
    "        sess.run(init_op)\n",
    "        for epoch in range(num_epochs):\n",
    "            epoch_cost = 0.\n",
    "            num_minibatches = int(train_size / minibatch_size)\n",
    "            minibatches = random_mini_batches(train_X, train_Y, minibatch_size)\n",
    "            for minibatch in minibatches:\n",
    "                (minibatch_X, minibatch_Y) = minibatch\n",
    "                feed_dict = {model['X'] : minibatch_X, model['Y'] : minibatch_Y}\n",
    "                _ ,minibatch_cost = sess.run([model['train_op'], model['cost']], feed_dict= feed_dict)\n",
    "                epoch_cost += minibatch_cost / num_minibatches\n",
    "            if parameters['print'] and (epoch % parameters['print_freq'] == 0):\n",
    "                print (\"Cost after epoch %i: %f\" % (epoch, epoch_cost))\n",
    "            if parameters['save_cost'] and (epoch % parameters['save_cost_freq'] == 0):\n",
    "                epoch_list.append(epoch)\n",
    "                cost_list.append(epoch_cost)\n",
    "        saver.save(sess, parameters['model_name'])\n",
    "    return {'epoch_list': epoch_list, 'cost_list' : cost_list}"
   ]
  },
  {
   "cell_type": "code",
   "execution_count": 78,
   "metadata": {},
   "outputs": [
    {
     "name": "stdout",
     "output_type": "stream",
     "text": [
      "selected_feature = ['Pclass', 'Sex', 'Age', 'SibSp', 'Parch', 'Fare', 'Embarked']\n",
      "feature_scaling = standardization\n",
      "layers_dim = [14]\n",
      "learning_rate = 0.01\n",
      "num_epochs = 2000\n",
      "minibatch_size = 16\n",
      "model_name = ./data/titanic\n",
      "print = True\n",
      "print_freq = 100\n",
      "save_cost = True\n",
      "save_cost_freq = 10\n"
     ]
    }
   ],
   "source": [
    "# set model parameters\n",
    "parameters['layers_dim'] = [14]\n",
    "parameters['learning_rate'] = 0.01\n",
    "# set train parameters (hyper parameter)\n",
    "parameters['num_epochs'] = 2000\n",
    "parameters['minibatch_size'] = 16\n",
    "# set option parameters\n",
    "parameters['model_name'] = './data/titanic'\n",
    "parameters['print'] = True\n",
    "parameters['print_freq'] = 100\n",
    "parameters['save_cost'] = True\n",
    "parameters['save_cost_freq'] = 10\n",
    "\n",
    "for k, v in parameters.items():\n",
    "    print(k, '=', v)"
   ]
  },
  {
   "cell_type": "code",
   "execution_count": 79,
   "metadata": {},
   "outputs": [
    {
     "name": "stdout",
     "output_type": "stream",
     "text": [
      "Cost after epoch 0: 0.614459\n",
      "Cost after epoch 100: 0.397611\n",
      "Cost after epoch 200: 0.386555\n",
      "Cost after epoch 300: 0.374001\n",
      "Cost after epoch 400: 0.371001\n",
      "Cost after epoch 500: 0.367808\n",
      "Cost after epoch 600: 0.367147\n",
      "Cost after epoch 700: 0.366214\n",
      "Cost after epoch 800: 0.364871\n",
      "Cost after epoch 900: 0.362433\n",
      "Cost after epoch 1000: 0.360196\n",
      "Cost after epoch 1100: 0.357505\n",
      "Cost after epoch 1200: 0.354845\n",
      "Cost after epoch 1300: 0.354299\n",
      "Cost after epoch 1400: 0.353876\n",
      "Cost after epoch 1500: 0.353257\n",
      "Cost after epoch 1600: 0.352732\n",
      "Cost after epoch 1700: 0.352966\n",
      "Cost after epoch 1800: 0.352215\n",
      "Cost after epoch 1900: 0.352149\n"
     ]
    }
   ],
   "source": [
    "with tf.Graph().as_default():\n",
    "    model = make_model(parameters)\n",
    "    plot_data = train(parameters, model)"
   ]
  },
  {
   "cell_type": "code",
   "execution_count": 80,
   "metadata": {},
   "outputs": [
    {
     "data": {
      "image/png": "[encoded data removed]",
      "text/plain": [
       "<Figure size 432x288 with 1 Axes>"
      ]
     },
     "metadata": {
      "needs_background": "light"
     },
     "output_type": "display_data"
    }
   ],
   "source": [
    "import matplotlib.pyplot as plt\n",
    "%matplotlib inline\n",
    "print\n",
    "if parameters['save_cost']:\n",
    "    plt.plot(plot_data['epoch_list'], plot_data['cost_list'])"
   ]
  },
  {
   "cell_type": "code",
   "execution_count": 1,
   "metadata": {},
   "outputs": [],
   "source": [
    "def evaluate(parameters, model):\n",
    "    saver = tf.train.Saver()\n",
    "    with tf.Session() as sess:\n",
    "        init_op = tf.group(tf.global_variables_initializer(), tf.local_variables_initializer())\n",
    "        sess.run(init_op)\n",
    "        saver.restore(sess, parameters['model_name'])\n",
    "        print (\"Train Accuracy:\", model['accuracy'].eval({model['X']: train_X, model['Y']: train_Y}))\n",
    "        print (\"Valid Accuracy:\", model['accuracy'].eval({model['X']: valid_X, model['Y']: valid_Y}))"
   ]
  },
  {
   "cell_type": "code",
   "execution_count": 48,
   "metadata": {},
   "outputs": [
    {
     "name": "stdout",
     "output_type": "stream",
     "text": [
      "INFO:tensorflow:Restoring parameters from ./data/titanic\n",
      "Train Accuracy: 0.87942123\n",
      "Valid Accuracy: 0.80898875\n"
     ]
    }
   ],
   "source": [
    "with tf.Graph().as_default():\n",
    "    model = make_model(parameters)\n",
    "    evaluate(parameters, model)"
   ]
  },
  {
   "cell_type": "code",
   "execution_count": 49,
   "metadata": {},
   "outputs": [],
   "source": [
    "def predict(parameters, model):\n",
    "    saver = tf.train.Saver()\n",
    "    with tf.Session() as sess:\n",
    "        init_op = tf.group(tf.global_variables_initializer(), tf.local_variables_initializer())\n",
    "        sess.run(init_op)\n",
    "        saver.restore(sess, parameters['model_name']) \n",
    "        return model['prediction'].eval({model['X']: test_X})"
   ]
  },
  {
   "cell_type": "code",
   "execution_count": 50,
   "metadata": {},
   "outputs": [
    {
     "name": "stdout",
     "output_type": "stream",
     "text": [
      "INFO:tensorflow:Restoring parameters from ./data/titanic\n"
     ]
    }
   ],
   "source": [
    "answer = pd.DataFrame(test_df['PassengerId'], columns=['PassengerId'])\n",
    "with tf.Graph().as_default():\n",
    "    model = make_model(parameters)\n",
    "    test_Y = predict(parameters, model)\n",
    "    answer['Survived'] = test_Y.astype(int)\n",
    "answer.to_csv('answer.csv', index=False)"
   ]
  },
  {
   "cell_type": "code",
   "execution_count": 68,
   "metadata": {},
   "outputs": [
    {
     "name": "stdout",
     "output_type": "stream",
     "text": [
      "match ratio linear_model of scikit-learn: 0.8995215311004785\n",
      "match ratio with logistic_model of scikit-learn: 0.8971291866028708\n"
     ]
    }
   ],
   "source": [
    "from sklearn import linear_model\n",
    "from sklearn.metrics import accuracy_score\n",
    "\n",
    "linear_regressor = linear_model.LinearRegression()\n",
    "linear_regressor.fit(train_X, train_Y)\n",
    "linear_match = np.sum(test_Y == np.round(linear_regressor.predict(test_X)))\n",
    "print(f'Linear Model Accuracy of scikit-learn: {linear_match / test_Y.shape[0]}')\n",
    "\n",
    "logistic_regressor = linear_model.LogisticRegression()\n",
    "logistic_regressor.fit(train_X, train_Y)\n",
    "pred = logistic_regressor.predict(test_X)\n",
    "print(f'Logistic Model Accuracy of scikit-learn: {accuracy_score(test_Y, pred)}')\n",
    "\n"
   ]
  },
  {
   "cell_type": "code",
   "execution_count": null,
   "metadata": {
    "collapsed": true
   },
   "outputs": [],
   "source": []
  }
 ],
 "metadata": {
  "kernelspec": {
   "display_name": "Python 3",
   "language": "python",
   "name": "python3"
  },
  "language_info": {
   "codemirror_mode": {
    "name": "ipython",
    "version": 3
   },
   "file_extension": ".py",
   "mimetype": "text/x-python",
   "name": "python",
   "nbconvert_exporter": "python",
   "pygments_lexer": "ipython3",
   "version": "3.7.0"
  }
 },
 "nbformat": 4,
 "nbformat_minor": 2
}
